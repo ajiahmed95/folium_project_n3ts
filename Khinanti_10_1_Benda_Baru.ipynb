{
  "nbformat": 4,
  "nbformat_minor": 0,
  "metadata": {
    "colab": {
      "provenance": [],
      "authorship_tag": "ABX9TyNwPMBw/G83LkoA9Dyyz50g",
      "include_colab_link": true
    },
    "kernelspec": {
      "name": "python3",
      "display_name": "Python 3"
    },
    "language_info": {
      "name": "python"
    }
  },
  "cells": [
    {
      "cell_type": "markdown",
      "metadata": {
        "id": "view-in-github",
        "colab_type": "text"
      },
      "source": [
        "<a href=\"https://colab.research.google.com/github/khinan/folium_project_n3ts/blob/main/Khinanti_10_1_Benda_Baru.ipynb\" target=\"_parent\"><img src=\"https://colab.research.google.com/assets/colab-badge.svg\" alt=\"Open In Colab\"/></a>"
      ]
    },
    {
      "cell_type": "code",
      "execution_count": 59,
      "metadata": {
        "id": "rfykRUtfM_AF"
      },
      "outputs": [],
      "source": [
        "import folium\n",
        "import pandas as pd\n",
        "import geopandas as gpd\n",
        "from google.colab import drive"
      ]
    },
    {
      "cell_type": "code",
      "source": [
        "\n",
        "\n",
        "drive.mount('/content/drive')\n",
        "\n",
        "indonesia_admin = gpd.read_file('/content/drive/MyDrive/ADMIN_INDO/ADMINISTRASI_AR_DESAKEL_10K.shp')\n",
        "\n",
        "aoi_admin = indonesia_admin[indonesia_admin['WADMKK'] == 'Kota Tangerang Selatan']"
      ],
      "metadata": {
        "colab": {
          "base_uri": "https://localhost:8080/"
        },
        "id": "WLZFuixP8A7t",
        "outputId": "e0099906-63be-450b-df59-1cc8c8cd01d6"
      },
      "execution_count": 60,
      "outputs": [
        {
          "output_type": "stream",
          "name": "stdout",
          "text": [
            "Drive already mounted at /content/drive; to attempt to forcibly remount, call drive.mount(\"/content/drive\", force_remount=True).\n"
          ]
        }
      ]
    },
    {
      "cell_type": "markdown",
      "source": [],
      "metadata": {
        "id": "3V8Rgobo7NS7"
      }
    },
    {
      "cell_type": "code",
      "source": [
        "\n",
        "csv_path = '/content/drive/MyDrive/tangsel_kelurahan_KK.csv'\n",
        "\n",
        "\n",
        "admin_gdf = aoi_admin\n",
        "\n",
        "\n",
        "csv_data = pd.read_csv(csv_path, header = 2, delimiter= ';')\n",
        "\n",
        "print(csv_data.head())\n",
        "print(admin_gdf.head())\n",
        "\n",
        "csv_data['Kelurahan'] = csv_data['Kelurahan'].str.lower().str.replace(' ', '')\n",
        "admin_gdf['NAMOBJ'] = admin_gdf['NAMOBJ'].str.lower().str.replace(' ', '')\n",
        "\n",
        "merged_data = pd.merge(admin_gdf, csv_data, left_on='NAMOBJ', right_on='Kelurahan', how='left')\n",
        "\n",
        "\n",
        "merged_gdf = gpd.GeoDataFrame(merged_data, geometry=merged_data.geometry)\n",
        "\n",
        "print(merged_gdf.head())\n"
      ],
      "metadata": {
        "colab": {
          "base_uri": "https://localhost:8080/"
        },
        "id": "3vq1cYlx8JWp",
        "outputId": "541ae40b-b0af-453c-f19a-178b75dbbc8a"
      },
      "execution_count": 70,
      "outputs": [
        {
          "output_type": "stream",
          "name": "stdout",
          "text": [
            "  Kecamatan        Kelurahan  Kepala Keluarga\n",
            "0   Serpong           CIATER             8487\n",
            "1   Serpong        RAWABUNTU             9028\n",
            "2   Serpong   RAWAMEKAR JAYA             5784\n",
            "3   Serpong  LENGKONG GUDANG             3855\n",
            "4   Serpong   LENGKONG WETAN             3339\n",
            "       OBJECTID        NAMOBJ       FCODE REMARK  \\\n",
            "24594   24595.0     bambuapus  BA03070040   None   \n",
            "24595   24596.0     bendabaru  BA03070040   None   \n",
            "24596   24597.0  cempakaputih  BA03070040   None   \n",
            "24597   24598.0     cireundeu  BA03070040   None   \n",
            "24598   24599.0       kedaung  BA03070040   None   \n",
            "\n",
            "                                           METADATA     SRS_ID KDBBPS KDCBPS  \\\n",
            "24594  TASWIL1000020230928_DATA_BATAS_DESAKELURAHAN  SRGI 2013   None   None   \n",
            "24595  TASWIL1000020230928_DATA_BATAS_DESAKELURAHAN  SRGI 2013   None   None   \n",
            "24596  TASWIL1000020230928_DATA_BATAS_DESAKELURAHAN  SRGI 2013   None   None   \n",
            "24597  TASWIL1000020230928_DATA_BATAS_DESAKELURAHAN  SRGI 2013   None   None   \n",
            "24598  TASWIL1000020230928_DATA_BATAS_DESAKELURAHAN  SRGI 2013   None   None   \n",
            "\n",
            "         KDCPUM KDEBPS  ...                  WADMKK  WADMPR WIADKC WIADKK  \\\n",
            "24594  36.74.06   None  ...  Kota Tangerang Selatan  Banten   None   None   \n",
            "24595  36.74.06   None  ...  Kota Tangerang Selatan  Banten   None   None   \n",
            "24596  36.74.05   None  ...  Kota Tangerang Selatan  Banten   None   None   \n",
            "24597  36.74.05   None  ...  Kota Tangerang Selatan  Banten   None   None   \n",
            "24598  36.74.06   None  ...  Kota Tangerang Selatan  Banten   None   None   \n",
            "\n",
            "       WIADPR  WIADKD                     UUPP Shape_Leng Shape_Area  \\\n",
            "24594    None    None  Data RBI Skala 1:25.000   0.078615   0.000230   \n",
            "24595    None    None  Data RBI Skala 1:25.000   0.072933   0.000269   \n",
            "24596    None    None  Data RBI Skala 1:25.000   0.029292   0.000050   \n",
            "24597    None    None  Data RBI Skala 1:25.000   0.108029   0.000275   \n",
            "24598    None    None  Data RBI Skala 1:25.000   0.061469   0.000178   \n",
            "\n",
            "                                                geometry  \n",
            "24594  POLYGON Z ((106.74059 -6.32514 0, 106.74061 -6...  \n",
            "24595  POLYGON Z ((106.72129 -6.32324 0, 106.72155 -6...  \n",
            "24596  POLYGON Z ((106.74614 -6.2921 0, 106.74627 -6....  \n",
            "24597  POLYGON Z ((106.77661 -6.31465 0, 106.77577 -6...  \n",
            "24598  POLYGON Z ((106.74059 -6.32514 0, 106.74053 -6...  \n",
            "\n",
            "[5 rows x 28 columns]\n",
            "   OBJECTID        NAMOBJ       FCODE REMARK  \\\n",
            "0   24595.0     bambuapus  BA03070040   None   \n",
            "1   24596.0     bendabaru  BA03070040   None   \n",
            "2   24597.0  cempakaputih  BA03070040   None   \n",
            "3   24598.0     cireundeu  BA03070040   None   \n",
            "4   24599.0       kedaung  BA03070040   None   \n",
            "\n",
            "                                       METADATA     SRS_ID KDBBPS KDCBPS  \\\n",
            "0  TASWIL1000020230928_DATA_BATAS_DESAKELURAHAN  SRGI 2013   None   None   \n",
            "1  TASWIL1000020230928_DATA_BATAS_DESAKELURAHAN  SRGI 2013   None   None   \n",
            "2  TASWIL1000020230928_DATA_BATAS_DESAKELURAHAN  SRGI 2013   None   None   \n",
            "3  TASWIL1000020230928_DATA_BATAS_DESAKELURAHAN  SRGI 2013   None   None   \n",
            "4  TASWIL1000020230928_DATA_BATAS_DESAKELURAHAN  SRGI 2013   None   None   \n",
            "\n",
            "     KDCPUM KDEBPS  ... WIADKK WIADPR WIADKD                     UUPP  \\\n",
            "0  36.74.06   None  ...   None   None   None  Data RBI Skala 1:25.000   \n",
            "1  36.74.06   None  ...   None   None   None  Data RBI Skala 1:25.000   \n",
            "2  36.74.05   None  ...   None   None   None  Data RBI Skala 1:25.000   \n",
            "3  36.74.05   None  ...   None   None   None  Data RBI Skala 1:25.000   \n",
            "4  36.74.06   None  ...   None   None   None  Data RBI Skala 1:25.000   \n",
            "\n",
            "   Shape_Leng  Shape_Area                                           geometry  \\\n",
            "0    0.078615    0.000230  POLYGON Z ((106.74059 -6.32514 0, 106.74061 -6...   \n",
            "1    0.072933    0.000269  POLYGON Z ((106.72129 -6.32324 0, 106.72155 -6...   \n",
            "2    0.029292    0.000050  POLYGON Z ((106.74614 -6.2921 0, 106.74627 -6....   \n",
            "3    0.108029    0.000275  POLYGON Z ((106.77661 -6.31465 0, 106.77577 -6...   \n",
            "4    0.061469    0.000178  POLYGON Z ((106.74059 -6.32514 0, 106.74053 -6...   \n",
            "\n",
            "       Kecamatan     Kelurahan Kepala Keluarga  \n",
            "0       Pamulang     bambuapus          8842.0  \n",
            "1       Pamulang     bendabaru         13513.0  \n",
            "2  Ciputat Timur  cempakaputih          8415.0  \n",
            "3  Ciputat Timur     cireundeu          8331.0  \n",
            "4       Pamulang       kedaung         16153.0  \n",
            "\n",
            "[5 rows x 31 columns]\n"
          ]
        },
        {
          "output_type": "stream",
          "name": "stderr",
          "text": [
            "/usr/local/lib/python3.10/dist-packages/geopandas/geodataframe.py:1819: SettingWithCopyWarning: \n",
            "A value is trying to be set on a copy of a slice from a DataFrame.\n",
            "Try using .loc[row_indexer,col_indexer] = value instead\n",
            "\n",
            "See the caveats in the documentation: https://pandas.pydata.org/pandas-docs/stable/user_guide/indexing.html#returning-a-view-versus-a-copy\n",
            "  super().__setitem__(key, value)\n"
          ]
        }
      ]
    },
    {
      "cell_type": "code",
      "source": [
        "filtered_gdf = merged_gdf[merged_gdf['NAMOBJ'] == 'bendabaru']\n",
        "\n",
        "m = folium.Map(location=[-6.2, 106.6], zoom_start=11)\n",
        "\n",
        "choropleth = folium.Choropleth(\n",
        "    geo_data=filtered_gdf,\n",
        "    name='choropleth',\n",
        "    data=filtered_gdf,\n",
        "    columns=['NAMOBJ', 'Kepala Keluarga'],\n",
        "    key_on= \"feature.properties.NAMOBJ\",\n",
        "    fill_color='YlOrRd',\n",
        "    fill_opacity=0.7,\n",
        "    line_opacity=1,\n",
        "    legend_name=\"Jumlah KK\"\n",
        ").add_to(m)\n",
        "\n",
        "jumlah_KK = folium.GeoJson(\n",
        "    data=merged_gdf,\n",
        "    name='Jumlah_KK',\n",
        "    style_function=lambda feature: {'fillOpacity': 0, 'color': 'transparent'},\n",
        "    popup = folium.GeoJsonPopup(\n",
        "        fields=['NAMOBJ','13513'],\n",
        "        aliases=['Kelurahan','Jumlah KK']\n",
        "    )\n",
        ").add_to(choropleth)\n",
        "\n",
        "folium.LayerControl().add_to(m)"
      ],
      "metadata": {
        "colab": {
          "base_uri": "https://localhost:8080/"
        },
        "id": "FLJFumi5-XF1",
        "outputId": "f38c6372-47f4-41d0-f9fd-f9fd58c94e89"
      },
      "execution_count": 84,
      "outputs": [
        {
          "output_type": "execute_result",
          "data": {
            "text/plain": [
              "<folium.map.LayerControl at 0x7d47e14c2f20>"
            ]
          },
          "metadata": {},
          "execution_count": 84
        }
      ]
    }
  ]
}